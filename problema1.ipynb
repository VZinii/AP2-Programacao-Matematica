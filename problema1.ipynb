{
  "nbformat": 4,
  "nbformat_minor": 0,
  "metadata": {
    "colab": {
      "provenance": []
    },
    "kernelspec": {
      "name": "python3",
      "display_name": "Python 3"
    },
    "language_info": {
      "name": "python"
    }
  },
  "cells": [
    {
      "cell_type": "markdown",
      "source": [
        "# Empresa de relógios\n",
        "## Alunos\n",
        "\n",
        "| Nome                        | Matrícula |\n",
        "|-----------------------------|-----------|\n",
        "| Luiz Filipe Bartelega Penha | 202111082 |\n",
        "| Vitor Pires Zini            | 202110169 |"
      ],
      "metadata": {
        "id": "yf8ojUqM-nuj"
      }
    },
    {
      "cell_type": "code",
      "execution_count": null,
      "metadata": {
        "colab": {
          "base_uri": "https://localhost:8080/"
        },
        "id": "n2RX48jNfFyd",
        "outputId": "ccf0b7c6-51e8-49d1-e170-b1affc040c4a"
      },
      "outputs": [
        {
          "output_type": "stream",
          "name": "stdout",
          "text": [
            "Requirement already satisfied: gurobipy in /usr/local/lib/python3.10/dist-packages (12.0.0)\n"
          ]
        }
      ],
      "source": [
        "!pip install gurobipy"
      ]
    },
    {
      "cell_type": "code",
      "source": [
        "from gurobipy import Model, GRB\n",
        "\n",
        "modelo = Model(\"relogio\")"
      ],
      "metadata": {
        "id": "Pg6J7Wirff6m"
      },
      "execution_count": null,
      "outputs": []
    },
    {
      "cell_type": "code",
      "source": [
        "\n",
        "relogio_pedestal_var = modelo.addVar(name=\"relogio pedestal\", vtype=GRB.CONTINUOUS, lb=0)\n",
        "relogio_parede_var = modelo.addVar(name=\"relogio parede\", vtype=GRB.CONTINUOUS, lb=0)"
      ],
      "metadata": {
        "id": "KnFUyJr1g7Yj"
      },
      "execution_count": null,
      "outputs": []
    },
    {
      "cell_type": "code",
      "source": [
        "modelo.setObjective(300 * relogio_pedestal_var + 200 * relogio_parede_var, GRB.MAXIMIZE)"
      ],
      "metadata": {
        "id": "G6JydtozhExc"
      },
      "execution_count": null,
      "outputs": []
    },
    {
      "cell_type": "code",
      "source": [
        "modelo.addConstr(6 * relogio_pedestal_var + 4 * relogio_parede_var <= 40, name=\"horas do João\")"
      ],
      "metadata": {
        "colab": {
          "base_uri": "https://localhost:8080/"
        },
        "id": "p7zMcFdahUMl",
        "outputId": "a39cb004-f42f-4bdb-a1df-ff4271138f6b"
      },
      "execution_count": null,
      "outputs": [
        {
          "output_type": "execute_result",
          "data": {
            "text/plain": [
              "<gurobi.Constr *Awaiting Model Update*>"
            ]
          },
          "metadata": {},
          "execution_count": 59
        }
      ]
    },
    {
      "cell_type": "code",
      "source": [
        "modelo.addConstr(8 * relogio_pedestal_var + 4 * relogio_parede_var <= 40, name=\"horas da Ana\")"
      ],
      "metadata": {
        "colab": {
          "base_uri": "https://localhost:8080/"
        },
        "id": "yYBGTDMxht_x",
        "outputId": "b43d541e-7076-4778-d154-b9c6f80bfd8a"
      },
      "execution_count": null,
      "outputs": [
        {
          "output_type": "execute_result",
          "data": {
            "text/plain": [
              "<gurobi.Constr *Awaiting Model Update*>"
            ]
          },
          "metadata": {},
          "execution_count": 60
        }
      ]
    },
    {
      "cell_type": "code",
      "source": [
        "modelo.addConstr(3 * relogio_pedestal_var + 3 * relogio_parede_var <= 20, name=\"horas da Lydia\")"
      ],
      "metadata": {
        "colab": {
          "base_uri": "https://localhost:8080/"
        },
        "id": "7T0ImZIhh2bi",
        "outputId": "0d32a925-007f-49b7-c4ed-97bdbacfb105"
      },
      "execution_count": null,
      "outputs": [
        {
          "output_type": "execute_result",
          "data": {
            "text/plain": [
              "<gurobi.Constr *Awaiting Model Update*>"
            ]
          },
          "metadata": {},
          "execution_count": 61
        }
      ]
    },
    {
      "cell_type": "code",
      "source": [
        "modelo.optimize()"
      ],
      "metadata": {
        "colab": {
          "base_uri": "https://localhost:8080/"
        },
        "id": "WAb_Bob-h-79",
        "outputId": "f63b108f-a1c1-41df-d09e-509ce4a651fb"
      },
      "execution_count": null,
      "outputs": [
        {
          "output_type": "stream",
          "name": "stdout",
          "text": [
            "Gurobi Optimizer version 12.0.0 build v12.0.0rc1 (linux64 - \"Ubuntu 22.04.3 LTS\")\n",
            "\n",
            "CPU model: Intel(R) Xeon(R) CPU @ 2.20GHz, instruction set [SSE2|AVX|AVX2]\n",
            "Thread count: 1 physical cores, 2 logical processors, using up to 2 threads\n",
            "\n",
            "Optimize a model with 3 rows, 2 columns and 6 nonzeros\n",
            "Model fingerprint: 0x6103ff60\n",
            "Coefficient statistics:\n",
            "  Matrix range     [3e+00, 8e+00]\n",
            "  Objective range  [2e+02, 3e+02]\n",
            "  Bounds range     [0e+00, 0e+00]\n",
            "  RHS range        [2e+01, 4e+01]\n",
            "Presolve time: 0.01s\n",
            "Presolved: 3 rows, 2 columns, 6 nonzeros\n",
            "\n",
            "Iteration    Objective       Primal Inf.    Dual Inf.      Time\n",
            "       0    5.0000000e+32   4.250000e+30   5.000000e+02      0s\n",
            "       2    1.6666667e+03   0.000000e+00   0.000000e+00      0s\n",
            "\n",
            "Solved in 2 iterations and 0.01 seconds (0.00 work units)\n",
            "Optimal objective  1.666666667e+03\n"
          ]
        }
      ]
    },
    {
      "cell_type": "code",
      "source": [
        "if(modelo.status == GRB.OPTIMAL):\n",
        "  print(f\"Relogio pedestal: {relogio_pedestal_var.X}\")\n",
        "  print(f\"Relogio parede: {relogio_parede_var.X}\")\n",
        "  print(f\"Valor ótimo: {modelo.objVal}\")\n"
      ],
      "metadata": {
        "colab": {
          "base_uri": "https://localhost:8080/"
        },
        "id": "NDQ0UA6MiBN4",
        "outputId": "515358f7-6247-45e5-a081-b06396c54fd9"
      },
      "execution_count": null,
      "outputs": [
        {
          "output_type": "stream",
          "name": "stdout",
          "text": [
            "Relogio pedestal: 3.333333333333333\n",
            "Relogio parede: 3.3333333333333335\n",
            "Valor ótimo: 1666.6666666666665\n"
          ]
        }
      ]
    },
    {
      "cell_type": "markdown",
      "source": [
        "# Questão 2\n"
      ],
      "metadata": {
        "id": "ia1Kpna0mxEF"
      }
    },
    {
      "cell_type": "code",
      "source": [
        "print(\"\\nIntervalos de Custos (Vetor de Custos):\")\n",
        "for variavel in modelo.getVars():\n",
        "  print(f\"Variável {variavel.VarName}:\")\n",
        "  print(f\"  lower bound do custo (SAObjLow): {variavel.SAObjLow}\")\n",
        "  print(f\"  upper bound do custo (SAObjUp): {variavel.SAObjUp}\")\n",
        "\n",
        "print(\"\\nIntervalos de Recursos (Vetor de Recursos):\")\n",
        "for restricao in modelo.getConstrs():\n",
        "  print(f\"Restrição {restricao.ConstrName}:\")\n",
        "  print(f\"  lower bound do recurso (SARHSLow): {restricao.SARHSLow}\")\n",
        "  print(f\"  upper bound do recurso (SARHSUp): {restricao.SARHSUp}\")\n",
        "  print(f\"  Variavel dual '{restricao.ConstrName}': Dual = {restricao.Pi}\")"
      ],
      "metadata": {
        "colab": {
          "base_uri": "https://localhost:8080/"
        },
        "id": "fPWC1htIj4LW",
        "outputId": "9cb912d8-ec4d-40c8-c595-f802fd0a49a6"
      },
      "execution_count": null,
      "outputs": [
        {
          "output_type": "stream",
          "name": "stdout",
          "text": [
            "\n",
            "Intervalos de Custos (Vetor de Custos):\n",
            "Variável relogio pedestal:\n",
            "  lower bound do custo (SAObjLow): 200.0\n",
            "  upper bound do custo (SAObjUp): 400.0\n",
            "Variável relogio parede:\n",
            "  lower bound do custo (SAObjLow): 150.0\n",
            "  upper bound do custo (SAObjUp): 300.0\n",
            "\n",
            "Intervalos de Recursos (Vetor de Recursos):\n",
            "Restrição horas do João:\n",
            "  lower bound do recurso (SARHSLow): 33.333333333333336\n",
            "  upper bound do recurso (SARHSUp): inf\n",
            "  Variavel dual 'horas do João': Dual = 0.0\n",
            "Restrição horas da Ana:\n",
            "  lower bound do recurso (SARHSLow): 26.666666666666668\n",
            "  upper bound do recurso (SARHSUp): 53.33333333333333\n",
            "  Variavel dual 'horas da Ana': Dual = 25.0\n",
            "Restrição horas da Lydia:\n",
            "  lower bound do recurso (SARHSLow): 15.0\n",
            "  upper bound do recurso (SARHSUp): 30.0\n",
            "  Variavel dual 'horas da Lydia': Dual = 33.333333333333336\n"
          ]
        }
      ]
    },
    {
      "cell_type": "markdown",
      "source": [
        "## Explicação\n",
        "\n",
        "Em relação aos custos, o lucro do relógio de pedestal apresenta uma margem de flexibilidade significativa, podendo variar entre R$200 e R$ 400 sem comprometer a solução ótima. De maneira similar, o lucro do relógio de parede permite oscilações entre R$ 150 e R$ 300. Caso os valores ultrapassem esses intervalos, outra solução ótima será produzida.\n",
        "\n",
        "Quanto à disponibilidade de horas de trabalho, a análise revelou aspectos importantes para cada sócio:\n",
        "\n",
        "João tem como limite mínimo 33,33 horas semanais e nenhum limite máximo de horas. Cada hora adicional que ele trabalha contribui diretamente para o incremento do lucro.\n",
        "Ana necessita manter sua carga horária entre 26,67 e 53,33 horas para preservar a solução ótima. Dentro desse intervalo, as variações não produzem alterações significativas no resultado final.\n",
        "Lídia tem um escopo de trabalho definido entre 15 e 30 horas."
      ],
      "metadata": {
        "id": "EFWcu7tPnBFF"
      }
    },
    {
      "cell_type": "markdown",
      "source": [
        "# Questão 3\n",
        "A melhor escolha para maximizar o lucro total é aumentar o número de horas de Lydia, sua váriavel dual é a maior entre os três, portanto, de uma hora trabalhada por ela terá um maior impacto na solução ótima."
      ],
      "metadata": {
        "id": "pact-suSpKek"
      }
    },
    {
      "cell_type": "markdown",
      "source": [
        "# Questão 4\n",
        "\n",
        "Sim, existe uma variável dual igual a zero. A restrição de horas trabalhadas de João é uma variável dual igual a zero. Este tipo de variável caracteriza que a restrição está não limitando a solução ótima. Portanto, aumentar ou reduzir o recurso associado a essa restrição não causaria impacto na solução ótima."
      ],
      "metadata": {
        "id": "nXVc96zVrSZb"
      }
    }
  ]
}