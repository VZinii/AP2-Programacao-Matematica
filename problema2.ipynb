{
  "nbformat": 4,
  "nbformat_minor": 0,
  "metadata": {
    "colab": {
      "provenance": []
    },
    "kernelspec": {
      "name": "python3",
      "display_name": "Python 3"
    },
    "language_info": {
      "name": "python"
    }
  },
  "cells": [
    {
      "cell_type": "markdown",
      "source": [
        "# Empresa transportadora de óleos\n",
        "## Alunos\n",
        "\n",
        "| Nome                        | Matrícula |\n",
        "|-----------------------------|-----------|\n",
        "| Luiz Filipe Bartelega Penha | 202111082 |\n",
        "| Vitor Pires Zini            | 202110169 |"
      ],
      "metadata": {
        "id": "6F1yT9FO-v8s"
      }
    },
    {
      "cell_type": "code",
      "execution_count": null,
      "metadata": {
        "colab": {
          "base_uri": "https://localhost:8080/"
        },
        "id": "bi8wVTC7FSIV",
        "outputId": "051ec75f-0ea5-45ef-ac34-9c52eede721c"
      },
      "outputs": [
        {
          "output_type": "stream",
          "name": "stdout",
          "text": [
            "Collecting gurobipy\n",
            "  Downloading gurobipy-12.0.0-cp310-cp310-manylinux2014_x86_64.manylinux_2_17_x86_64.whl.metadata (15 kB)\n",
            "Downloading gurobipy-12.0.0-cp310-cp310-manylinux2014_x86_64.manylinux_2_17_x86_64.whl (14.4 MB)\n",
            "\u001b[2K   \u001b[90m━━━━━━━━━━━━━━━━━━━━━━━━━━━━━━━━━━━━━━━━\u001b[0m \u001b[32m14.4/14.4 MB\u001b[0m \u001b[31m24.1 MB/s\u001b[0m eta \u001b[36m0:00:00\u001b[0m\n",
            "\u001b[?25hInstalling collected packages: gurobipy\n",
            "Successfully installed gurobipy-12.0.0\n"
          ]
        }
      ],
      "source": [
        "!pip install gurobipy"
      ]
    },
    {
      "cell_type": "code",
      "source": [
        "from gurobipy import Model, GRB\n",
        "\n",
        "modelo = Model(\"Transporte óleo\")"
      ],
      "metadata": {
        "colab": {
          "base_uri": "https://localhost:8080/"
        },
        "id": "g6mg9E2QFVkb",
        "outputId": "4448940c-ac34-4ca1-e098-1d75e519e964"
      },
      "execution_count": null,
      "outputs": [
        {
          "output_type": "stream",
          "name": "stdout",
          "text": [
            "Restricted license - for non-production use only - expires 2026-11-23\n"
          ]
        }
      ]
    },
    {
      "cell_type": "code",
      "source": [
        "AN_var = modelo.addVar(name=\"a->norte\", vtype=GRB.CONTINUOUS, lb=0)\n",
        "AS_var = modelo.addVar(name=\"a->sul\", vtype=GRB.CONTINUOUS, lb=0)\n",
        "\n",
        "SN_var = modelo.addVar(name=\"sul->norte\", vtype=GRB.CONTINUOUS, lb=0)\n",
        "\n",
        "NB_var = modelo.addVar(name=\"norte->b\", vtype=GRB.CONTINUOUS, lb=0)\n",
        "SB_var = modelo.addVar(name=\"sul->b\", vtype=GRB.CONTINUOUS, lb=0)"
      ],
      "metadata": {
        "id": "h_QsV92LFhFt"
      },
      "execution_count": null,
      "outputs": []
    },
    {
      "cell_type": "code",
      "source": [
        "modelo.addConstr(AN_var <= 300, name=\"fluxo an\")\n",
        "modelo.addConstr(AS_var <= 500, name=\"fluxo as\")\n",
        "modelo.addConstr(SN_var <= 300, name=\"fluxo sn\")\n",
        "modelo.addConstr(NB_var <= 400, name=\"fluxo nb\")\n",
        "modelo.addConstr(SB_var <= 300, name=\"fluxo sb\")\n",
        "\n",
        "modelo.addConstr(AN_var + SN_var == NB_var, name=\"conservação fluxo norte\")\n",
        "modelo.addConstr(AS_var == SN_var + SB_var, name=\"conservação fluxo sul\")"
      ],
      "metadata": {
        "colab": {
          "base_uri": "https://localhost:8080/"
        },
        "id": "1paj2L4aF55_",
        "outputId": "fbf3fc42-1f21-48b8-bc20-d17635b70f1b"
      },
      "execution_count": null,
      "outputs": [
        {
          "output_type": "execute_result",
          "data": {
            "text/plain": [
              "<gurobi.Constr *Awaiting Model Update*>"
            ]
          },
          "metadata": {},
          "execution_count": 4
        }
      ]
    },
    {
      "cell_type": "code",
      "source": [
        "modelo.setObjective(NB_var + SB_var, GRB.MAXIMIZE)\n",
        "modelo.optimize()"
      ],
      "metadata": {
        "colab": {
          "base_uri": "https://localhost:8080/"
        },
        "id": "IHBI3NH2G9F3",
        "outputId": "71941603-1312-40df-e8a4-38a6f7c2e14f"
      },
      "execution_count": null,
      "outputs": [
        {
          "output_type": "stream",
          "name": "stdout",
          "text": [
            "Gurobi Optimizer version 12.0.0 build v12.0.0rc1 (linux64 - \"Ubuntu 22.04.3 LTS\")\n",
            "\n",
            "CPU model: Intel(R) Xeon(R) CPU @ 2.20GHz, instruction set [SSE2|AVX|AVX2]\n",
            "Thread count: 1 physical cores, 2 logical processors, using up to 2 threads\n",
            "\n",
            "Optimize a model with 7 rows, 5 columns and 11 nonzeros\n",
            "Model fingerprint: 0xdfb8879e\n",
            "Coefficient statistics:\n",
            "  Matrix range     [1e+00, 1e+00]\n",
            "  Objective range  [1e+00, 1e+00]\n",
            "  Bounds range     [0e+00, 0e+00]\n",
            "  RHS range        [3e+02, 5e+02]\n",
            "Presolve removed 5 rows and 1 columns\n",
            "Presolve time: 0.01s\n",
            "Presolved: 2 rows, 4 columns, 5 nonzeros\n",
            "\n",
            "Iteration    Objective       Primal Inf.    Dual Inf.      Time\n",
            "       0    7.0000000e+02   1.250000e+01   0.000000e+00      0s\n",
            "       1    7.0000000e+02   0.000000e+00   0.000000e+00      0s\n",
            "\n",
            "Solved in 1 iterations and 0.02 seconds (0.00 work units)\n",
            "Optimal objective  7.000000000e+02\n"
          ]
        }
      ]
    },
    {
      "cell_type": "code",
      "source": [
        "if(modelo.status == GRB.OPTIMAL):\n",
        "  print(f\"an: {AN_var.X}\")\n",
        "  print(f\"as: {AS_var.X}\")\n",
        "  print(f\"sn: {SN_var.X}\")\n",
        "  print(f\"nb: {NB_var.X}\")\n",
        "  print(f\"sb: {SB_var.X}\")\n",
        "  print(f\"Valor ótimo: {modelo.objVal}\")\n"
      ],
      "metadata": {
        "colab": {
          "base_uri": "https://localhost:8080/"
        },
        "id": "6H_-6g5gHAHH",
        "outputId": "53689706-0006-4c47-ebf2-05ba5c0b6f24"
      },
      "execution_count": null,
      "outputs": [
        {
          "output_type": "stream",
          "name": "stdout",
          "text": [
            "an: 300.0\n",
            "as: 400.0\n",
            "sn: 100.0\n",
            "nb: 400.0\n",
            "sb: 300.0\n",
            "Valor ótimo: 700.0\n"
          ]
        }
      ]
    },
    {
      "cell_type": "code",
      "source": [
        "print(\"\\nIntervalos de Custos (Vetor de Custos):\")\n",
        "for variavel in modelo.getVars():\n",
        "  print(f\"Variável {variavel.VarName}:\")\n",
        "  print(f\"  lower bound do custo (SAObjLow): {variavel.SAObjLow}\")\n",
        "  print(f\"  upper bound do custo (SAObjUp): {variavel.SAObjUp}\")\n",
        "\n",
        "print(\"\\nIntervalos de Recursos (Vetor de Recursos):\")\n",
        "for restricao in modelo.getConstrs():\n",
        "  print(f\"Restrição {restricao.ConstrName}:\")\n",
        "  print(f\"  lower bound do recurso (SARHSLow): {restricao.SARHSLow}\")\n",
        "  print(f\"  upper bound do recurso (SARHSUp): {restricao.SARHSUp}\")\n",
        "  print(f\"  Variavel dual '{restricao.ConstrName}': Dual = {restricao.Pi}\")\n"
      ],
      "metadata": {
        "colab": {
          "base_uri": "https://localhost:8080/"
        },
        "id": "79v8gF7-JNYn",
        "outputId": "5c5da189-856b-41a7-fc10-ef222db27c4b"
      },
      "execution_count": null,
      "outputs": [
        {
          "output_type": "stream",
          "name": "stdout",
          "text": [
            "\n",
            "Intervalos de Custos (Vetor de Custos):\n",
            "Variável a->norte:\n",
            "  lower bound do custo (SAObjLow): -0.0\n",
            "  upper bound do custo (SAObjUp): inf\n",
            "Variável a->sul:\n",
            "  lower bound do custo (SAObjLow): -1.0\n",
            "  upper bound do custo (SAObjUp): 0.0\n",
            "Variável sul->norte:\n",
            "  lower bound do custo (SAObjLow): -1.0\n",
            "  upper bound do custo (SAObjUp): 0.0\n",
            "Variável norte->b:\n",
            "  lower bound do custo (SAObjLow): -0.0\n",
            "  upper bound do custo (SAObjUp): inf\n",
            "Variável sul->b:\n",
            "  lower bound do custo (SAObjLow): -0.0\n",
            "  upper bound do custo (SAObjUp): inf\n",
            "\n",
            "Intervalos de Recursos (Vetor de Recursos):\n",
            "Restrição fluxo an:\n",
            "  lower bound do recurso (SARHSLow): 200.0\n",
            "  upper bound do recurso (SARHSUp): 400.0\n",
            "  Variavel dual 'fluxo an': Dual = 0.0\n",
            "Restrição fluxo as:\n",
            "  lower bound do recurso (SARHSLow): 400.0\n",
            "  upper bound do recurso (SARHSUp): inf\n",
            "  Variavel dual 'fluxo as': Dual = 0.0\n",
            "Restrição fluxo sn:\n",
            "  lower bound do recurso (SARHSLow): 100.0\n",
            "  upper bound do recurso (SARHSUp): inf\n",
            "  Variavel dual 'fluxo sn': Dual = 0.0\n",
            "Restrição fluxo nb:\n",
            "  lower bound do recurso (SARHSLow): 300.0\n",
            "  upper bound do recurso (SARHSUp): 500.0\n",
            "  Variavel dual 'fluxo nb': Dual = 1.0\n",
            "Restrição fluxo sb:\n",
            "  lower bound do recurso (SARHSLow): 0.0\n",
            "  upper bound do recurso (SARHSUp): 400.0\n",
            "  Variavel dual 'fluxo sb': Dual = 1.0\n",
            "Restrição conservação fluxo norte:\n",
            "  lower bound do recurso (SARHSLow): -100.0\n",
            "  upper bound do recurso (SARHSUp): 100.0\n",
            "  Variavel dual 'conservação fluxo norte': Dual = 0.0\n",
            "Restrição conservação fluxo sul:\n",
            "  lower bound do recurso (SARHSLow): -400.0\n",
            "  upper bound do recurso (SARHSUp): 100.0\n",
            "  Variavel dual 'conservação fluxo sul': Dual = 0.0\n"
          ]
        }
      ]
    },
    {
      "cell_type": "markdown",
      "source": [
        "# Análise de sensibilidade\n",
        "Primeiramente, avaliando os intervalos de custos, observa-se que as variáveis \"a -> norte\", \"norte -> b\" e \"sul -> b\" possuem grande flexibilidade, pois seus custos podem aumentar indefinidamente sem alterar a solução ótima, mas não podem ser reduzidos abaixo de -0.0. Por outro lado, as variáveis \"a -> sul\" e \"sul -> norte\" possuem intervalos mais restritos, variando entre -1.0 e 0.0. Isso indica que essas duas últimas variáveis são mais sensíveis a mudanças nos custos, podendo impactar a solução ótima caso os valores saiam desses intervalos.\n",
        "\n",
        "No que diz respeito aos intervalos de recursos, os resultados mostram que a maioria das restrições apresenta valores duals iguais a 0.0, indicando que essas restrições não estão sendo críticas na solução ótima. Por exemplo, a restrição \"fluxo an\" permite que os recursos variem entre 200.0 e 400.0 sem impactar a solução, enquanto \"fluxo nb\" aceita variações entre 300.0 e 500.0. Algumas restrições, como \"fluxo as\", \"fluxo sn\" e \"fluxo sb\", não possuem limites superiores definidos, o que demonstra flexibilidade para aumentos nos recursos. Já as restrições de conservação de fluxo (\"norte\" e \"sul\") apresentam intervalos mais amplos, permitindo variações significativas sem alterar a base ótima."
      ],
      "metadata": {
        "id": "P2nwQeuVzOVa"
      }
    }
  ]
}