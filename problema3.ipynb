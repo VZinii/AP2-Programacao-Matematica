{
  "nbformat": 4,
  "nbformat_minor": 0,
  "metadata": {
    "colab": {
      "provenance": []
    },
    "kernelspec": {
      "name": "python3",
      "display_name": "Python 3"
    },
    "language_info": {
      "name": "python"
    }
  },
  "cells": [
    {
      "cell_type": "markdown",
      "source": [
        "## Alunos\n",
        "\n",
        "| Nome                        | Matrícula |\n",
        "|-----------------------------|-----------|\n",
        "| Luiz Filipe Bartelega Penha | 202111082 |\n",
        "| Vitor Pires Zini            | 202110169 |"
      ],
      "metadata": {
        "id": "51Vgw-bPQksQ"
      }
    },
    {
      "cell_type": "markdown",
      "source": [
        "Suponha que temos uma tabela de nutrientes de diferentes tipos de alimentos. Sabendo o valor\n",
        "diário de referência (VDR) de cada nutriente e o preço de cada unidade de alimento, qual é a\n",
        "dieta ótima que contém pelo menos o valor diário de referência e seja de menor custo?\n"
      ],
      "metadata": {
        "id": "HMhoYagroG-x"
      }
    },
    {
      "cell_type": "markdown",
      "source": [
        "# 1)"
      ],
      "metadata": {
        "id": "mmWxpqFYJacU"
      }
    },
    {
      "cell_type": "code",
      "execution_count": 1,
      "metadata": {
        "id": "npLC_nP4oD_s",
        "outputId": "d0624d50-0cd1-4d77-ab64-604f2fc34245",
        "colab": {
          "base_uri": "https://localhost:8080/"
        }
      },
      "outputs": [
        {
          "output_type": "stream",
          "name": "stdout",
          "text": [
            "Requirement already satisfied: gurobipy in /usr/local/lib/python3.10/dist-packages (12.0.0)\n"
          ]
        }
      ],
      "source": [
        "!pip install gurobipy"
      ]
    },
    {
      "cell_type": "code",
      "source": [
        "from gurobipy import Model, GRB, quicksum\n",
        "\n",
        "# Criar o modelo\n",
        "modelo = Model(\"McDieta\")"
      ],
      "metadata": {
        "id": "N5mlWo5YQDf_",
        "outputId": "c91ade56-5d68-4b2e-8490-024de1b145c4",
        "colab": {
          "base_uri": "https://localhost:8080/"
        }
      },
      "execution_count": 2,
      "outputs": [
        {
          "output_type": "stream",
          "name": "stdout",
          "text": [
            "Restricted license - for non-production use only - expires 2026-11-23\n"
          ]
        }
      ]
    },
    {
      "cell_type": "markdown",
      "source": [
        "## Declaração das variáveis"
      ],
      "metadata": {
        "id": "4lHFCRLURZaa"
      }
    },
    {
      "cell_type": "code",
      "source": [
        "from google.colab import files\n",
        "import pandas as pd\n",
        "\n",
        "alimentos = []\n",
        "custos = []\n",
        "\n",
        "# Fazer o upload do arquivo\n",
        "uploaded = files.upload()\n",
        "\n",
        "# Obter o nome do arquivo carregado\n",
        "nutrientes_file_name = list(uploaded.keys())[0]\n",
        "custos_file_name = list(uploaded.keys())[1]\n",
        "vdr_file_name = list(uploaded.keys())[2]\n",
        "\n",
        "# Ler o arquivo com pandas (substitua 'sep' pelo separador correto)\n",
        "nutrientes_file = pd.read_csv(nutrientes_file_name, sep='\\s+', header=1, index_col=0)\n",
        "custos_file = pd.read_csv(custos_file_name, sep='\\s+', header=2, index_col=0)\n",
        "vdr_file = pd.read_csv(vdr_file_name, sep='\\s+', header=1, index_col=0)\n",
        "\n",
        "df_nutrientes = pd.DataFrame(nutrientes_file)\n",
        "\n",
        "# Criando uma variável para representar a quantidade de cada alimento:\n",
        "for i in range(len(df_nutrientes.index)):\n",
        "  # Descomentar se quiser utilizar o UpperBound para responder a questão 4:\n",
        "  # alimentos.append(modelo.addVar(name=df_nutrientes.index[i], vtype=GRB.CONTINUOUS, lb=0, ub=1))\n",
        "  alimentos.append(modelo.addVar(name=df_nutrientes.index[i], vtype=GRB.CONTINUOUS, lb=0))\n",
        "\n",
        "# Matriz contendo os nutrientes de cada alimento:\n",
        "valores_nutrientes = df_nutrientes.to_numpy()\n",
        "\n",
        "# Armazenando os custos de cada alimento:\n",
        "df_custos = pd.DataFrame(custos_file)\n",
        "valores_custos = df_custos.to_numpy()\n",
        "\n",
        "# Percorrendo a matriz e pegando apenas a informação dos custos e salvando no vetor\n",
        "for i in range(len(valores_custos)):\n",
        "    custos.append(valores_custos[i][0])\n",
        "\n",
        "nutrientes_valores = valores_nutrientes.transpose()\n"
      ],
      "metadata": {
        "id": "Nz84t8SfQOSm",
        "colab": {
          "base_uri": "https://localhost:8080/",
          "height": 180
        },
        "outputId": "13a50c4c-9fc3-430c-efd7-ed705c38f41d",
        "collapsed": true
      },
      "execution_count": 4,
      "outputs": [
        {
          "output_type": "display_data",
          "data": {
            "text/plain": [
              "<IPython.core.display.HTML object>"
            ],
            "text/html": [
              "\n",
              "     <input type=\"file\" id=\"files-776a4435-ac7c-41e2-b2d6-2f3525d2490b\" name=\"files[]\" multiple disabled\n",
              "        style=\"border:none\" />\n",
              "     <output id=\"result-776a4435-ac7c-41e2-b2d6-2f3525d2490b\">\n",
              "      Upload widget is only available when the cell has been executed in the\n",
              "      current browser session. Please rerun this cell to enable.\n",
              "      </output>\n",
              "      <script>// Copyright 2017 Google LLC\n",
              "//\n",
              "// Licensed under the Apache License, Version 2.0 (the \"License\");\n",
              "// you may not use this file except in compliance with the License.\n",
              "// You may obtain a copy of the License at\n",
              "//\n",
              "//      http://www.apache.org/licenses/LICENSE-2.0\n",
              "//\n",
              "// Unless required by applicable law or agreed to in writing, software\n",
              "// distributed under the License is distributed on an \"AS IS\" BASIS,\n",
              "// WITHOUT WARRANTIES OR CONDITIONS OF ANY KIND, either express or implied.\n",
              "// See the License for the specific language governing permissions and\n",
              "// limitations under the License.\n",
              "\n",
              "/**\n",
              " * @fileoverview Helpers for google.colab Python module.\n",
              " */\n",
              "(function(scope) {\n",
              "function span(text, styleAttributes = {}) {\n",
              "  const element = document.createElement('span');\n",
              "  element.textContent = text;\n",
              "  for (const key of Object.keys(styleAttributes)) {\n",
              "    element.style[key] = styleAttributes[key];\n",
              "  }\n",
              "  return element;\n",
              "}\n",
              "\n",
              "// Max number of bytes which will be uploaded at a time.\n",
              "const MAX_PAYLOAD_SIZE = 100 * 1024;\n",
              "\n",
              "function _uploadFiles(inputId, outputId) {\n",
              "  const steps = uploadFilesStep(inputId, outputId);\n",
              "  const outputElement = document.getElementById(outputId);\n",
              "  // Cache steps on the outputElement to make it available for the next call\n",
              "  // to uploadFilesContinue from Python.\n",
              "  outputElement.steps = steps;\n",
              "\n",
              "  return _uploadFilesContinue(outputId);\n",
              "}\n",
              "\n",
              "// This is roughly an async generator (not supported in the browser yet),\n",
              "// where there are multiple asynchronous steps and the Python side is going\n",
              "// to poll for completion of each step.\n",
              "// This uses a Promise to block the python side on completion of each step,\n",
              "// then passes the result of the previous step as the input to the next step.\n",
              "function _uploadFilesContinue(outputId) {\n",
              "  const outputElement = document.getElementById(outputId);\n",
              "  const steps = outputElement.steps;\n",
              "\n",
              "  const next = steps.next(outputElement.lastPromiseValue);\n",
              "  return Promise.resolve(next.value.promise).then((value) => {\n",
              "    // Cache the last promise value to make it available to the next\n",
              "    // step of the generator.\n",
              "    outputElement.lastPromiseValue = value;\n",
              "    return next.value.response;\n",
              "  });\n",
              "}\n",
              "\n",
              "/**\n",
              " * Generator function which is called between each async step of the upload\n",
              " * process.\n",
              " * @param {string} inputId Element ID of the input file picker element.\n",
              " * @param {string} outputId Element ID of the output display.\n",
              " * @return {!Iterable<!Object>} Iterable of next steps.\n",
              " */\n",
              "function* uploadFilesStep(inputId, outputId) {\n",
              "  const inputElement = document.getElementById(inputId);\n",
              "  inputElement.disabled = false;\n",
              "\n",
              "  const outputElement = document.getElementById(outputId);\n",
              "  outputElement.innerHTML = '';\n",
              "\n",
              "  const pickedPromise = new Promise((resolve) => {\n",
              "    inputElement.addEventListener('change', (e) => {\n",
              "      resolve(e.target.files);\n",
              "    });\n",
              "  });\n",
              "\n",
              "  const cancel = document.createElement('button');\n",
              "  inputElement.parentElement.appendChild(cancel);\n",
              "  cancel.textContent = 'Cancel upload';\n",
              "  const cancelPromise = new Promise((resolve) => {\n",
              "    cancel.onclick = () => {\n",
              "      resolve(null);\n",
              "    };\n",
              "  });\n",
              "\n",
              "  // Wait for the user to pick the files.\n",
              "  const files = yield {\n",
              "    promise: Promise.race([pickedPromise, cancelPromise]),\n",
              "    response: {\n",
              "      action: 'starting',\n",
              "    }\n",
              "  };\n",
              "\n",
              "  cancel.remove();\n",
              "\n",
              "  // Disable the input element since further picks are not allowed.\n",
              "  inputElement.disabled = true;\n",
              "\n",
              "  if (!files) {\n",
              "    return {\n",
              "      response: {\n",
              "        action: 'complete',\n",
              "      }\n",
              "    };\n",
              "  }\n",
              "\n",
              "  for (const file of files) {\n",
              "    const li = document.createElement('li');\n",
              "    li.append(span(file.name, {fontWeight: 'bold'}));\n",
              "    li.append(span(\n",
              "        `(${file.type || 'n/a'}) - ${file.size} bytes, ` +\n",
              "        `last modified: ${\n",
              "            file.lastModifiedDate ? file.lastModifiedDate.toLocaleDateString() :\n",
              "                                    'n/a'} - `));\n",
              "    const percent = span('0% done');\n",
              "    li.appendChild(percent);\n",
              "\n",
              "    outputElement.appendChild(li);\n",
              "\n",
              "    const fileDataPromise = new Promise((resolve) => {\n",
              "      const reader = new FileReader();\n",
              "      reader.onload = (e) => {\n",
              "        resolve(e.target.result);\n",
              "      };\n",
              "      reader.readAsArrayBuffer(file);\n",
              "    });\n",
              "    // Wait for the data to be ready.\n",
              "    let fileData = yield {\n",
              "      promise: fileDataPromise,\n",
              "      response: {\n",
              "        action: 'continue',\n",
              "      }\n",
              "    };\n",
              "\n",
              "    // Use a chunked sending to avoid message size limits. See b/62115660.\n",
              "    let position = 0;\n",
              "    do {\n",
              "      const length = Math.min(fileData.byteLength - position, MAX_PAYLOAD_SIZE);\n",
              "      const chunk = new Uint8Array(fileData, position, length);\n",
              "      position += length;\n",
              "\n",
              "      const base64 = btoa(String.fromCharCode.apply(null, chunk));\n",
              "      yield {\n",
              "        response: {\n",
              "          action: 'append',\n",
              "          file: file.name,\n",
              "          data: base64,\n",
              "        },\n",
              "      };\n",
              "\n",
              "      let percentDone = fileData.byteLength === 0 ?\n",
              "          100 :\n",
              "          Math.round((position / fileData.byteLength) * 100);\n",
              "      percent.textContent = `${percentDone}% done`;\n",
              "\n",
              "    } while (position < fileData.byteLength);\n",
              "  }\n",
              "\n",
              "  // All done.\n",
              "  yield {\n",
              "    response: {\n",
              "      action: 'complete',\n",
              "    }\n",
              "  };\n",
              "}\n",
              "\n",
              "scope.google = scope.google || {};\n",
              "scope.google.colab = scope.google.colab || {};\n",
              "scope.google.colab._files = {\n",
              "  _uploadFiles,\n",
              "  _uploadFilesContinue,\n",
              "};\n",
              "})(self);\n",
              "</script> "
            ]
          },
          "metadata": {}
        },
        {
          "output_type": "stream",
          "name": "stdout",
          "text": [
            "Saving McDonalds-amnt.wsv to McDonalds-amnt (9).wsv\n",
            "Saving McDonalds-food.wsv to McDonalds-food (9).wsv\n",
            "Saving McDonalds-nutr.wsv to McDonalds-nutr (9).wsv\n",
            "[6.9, 9.4, 6.4, 7.9, 6.9, 6.9, 6.4, 6.9, 6.9, 3.5, 3.15, 2.65, 2.5, 3.5, 3.5, 10.45, 13.75, 13.75, 1.5, 1.5, 1.5, 4.45, 3.5, 2.65, 8.45, 3.5, 5.25, 1.0, 1.0, 1.0, 1.0, 2.7, 3.2, 2.7, 3.2, 2.7, 3.2, 2.7, 3.2, 2.9, 2.5, 1.5, 1.5, 2.5, 2.9, 3.2, 2.5, 2.9, 3.2, 2.5, 2.9, 3.2, 2.5, 2.9, 3.2, 2.5, 2.9, 3.2, 1.5, 1.5, 1.5, 2.0, 2.0, 2.45, 2.45, 3.5, 3.5, 3.5, 3.95, 3.95, 3.95, 3.95, 3.95, 3.95, 4.95, 3.95, 4.95, 3.95, 4.95, 2.25, 2.25, 3.6, 1.0, 2.5]\n"
          ]
        }
      ]
    },
    {
      "cell_type": "markdown",
      "source": [
        "## Função Objetivo"
      ],
      "metadata": {
        "id": "dBc0FCcURdaP"
      }
    },
    {
      "cell_type": "code",
      "source": [
        "funcao_objetivo = quicksum(custos[i] * alimentos[i] for i in range(len(alimentos)))\n",
        "\n",
        "modelo.setObjective(funcao_objetivo, GRB.MINIMIZE)"
      ],
      "metadata": {
        "id": "YRGbS-Q9RAOs"
      },
      "execution_count": 5,
      "outputs": []
    },
    {
      "cell_type": "markdown",
      "source": [
        "## Restrições"
      ],
      "metadata": {
        "id": "PqQ88IxZRg2Z"
      }
    },
    {
      "cell_type": "code",
      "source": [
        "for nutriente_indice in range(len(nutrientes_valores)):\n",
        "  total_nutriente = 0\n",
        "  for alimento in range(len(nutrientes_valores[nutriente_indice])):\n",
        "    total_nutriente += nutrientes_valores[nutriente_indice][alimento] * alimentos[alimento]\n",
        "  modelo.addConstr(total_nutriente >= 100, \"O VDR de cada nutriente é 100\")"
      ],
      "metadata": {
        "id": "9c_pD--XRYob"
      },
      "execution_count": 6,
      "outputs": []
    },
    {
      "cell_type": "markdown",
      "source": [
        "## Resolvendo o problema"
      ],
      "metadata": {
        "id": "BM1nDqvlSgr0"
      }
    },
    {
      "cell_type": "code",
      "source": [
        "modelo.optimize()"
      ],
      "metadata": {
        "colab": {
          "base_uri": "https://localhost:8080/"
        },
        "id": "n2g2uCBZSgVY",
        "outputId": "ca363530-0b02-4b22-eef3-46a4c0db7a95"
      },
      "execution_count": 7,
      "outputs": [
        {
          "output_type": "stream",
          "name": "stdout",
          "text": [
            "Gurobi Optimizer version 12.0.0 build v12.0.0rc1 (linux64 - \"Ubuntu 22.04.3 LTS\")\n",
            "\n",
            "CPU model: Intel(R) Xeon(R) CPU @ 2.20GHz, instruction set [SSE2|AVX|AVX2]\n",
            "Thread count: 1 physical cores, 2 logical processors, using up to 2 threads\n",
            "\n",
            "Optimize a model with 10 rows, 84 columns and 634 nonzeros\n",
            "Model fingerprint: 0x8971e040\n",
            "Coefficient statistics:\n",
            "  Matrix range     [1e+00, 1e+02]\n",
            "  Objective range  [1e+00, 1e+01]\n",
            "  Bounds range     [0e+00, 0e+00]\n",
            "  RHS range        [1e+02, 1e+02]\n",
            "Presolve removed 0 rows and 16 columns\n",
            "Presolve time: 0.01s\n",
            "Presolved: 10 rows, 68 columns, 580 nonzeros\n",
            "\n",
            "Iteration    Objective       Primal Inf.    Dual Inf.      Time\n",
            "       0    0.0000000e+00   7.500000e+01   0.000000e+00      0s\n",
            "       3    2.4311927e+01   0.000000e+00   0.000000e+00      0s\n",
            "\n",
            "Solved in 3 iterations and 0.02 seconds (0.00 work units)\n",
            "Optimal objective  2.431192661e+01\n"
          ]
        }
      ]
    },
    {
      "cell_type": "markdown",
      "source": [
        "## Imprimindo a solução do problema"
      ],
      "metadata": {
        "id": "fTwnyBkHS6jm"
      }
    },
    {
      "cell_type": "code",
      "source": [
        "if(modelo.status == GRB.OPTIMAL):\n",
        "  print(f\"Valor Ótimo: {modelo.objVal}\")"
      ],
      "metadata": {
        "colab": {
          "base_uri": "https://localhost:8080/"
        },
        "id": "x6pvzJIhS88t",
        "outputId": "96723d17-91ef-4038-d5bc-fa47bd776fd0"
      },
      "execution_count": 8,
      "outputs": [
        {
          "output_type": "stream",
          "name": "stdout",
          "text": [
            "Valor Ótimo: 24.31192660550459\n"
          ]
        }
      ]
    },
    {
      "cell_type": "markdown",
      "source": [
        "## Resposta: R$ 24,31"
      ],
      "metadata": {
        "id": "jTod3eIoQEXJ"
      }
    },
    {
      "cell_type": "markdown",
      "source": [
        "# 2)"
      ],
      "metadata": {
        "id": "zhZjfILBJW3Q"
      }
    },
    {
      "cell_type": "markdown",
      "source": [
        "## Análise de Sensibilidade"
      ],
      "metadata": {
        "id": "NOoKpbr4ICLY"
      }
    },
    {
      "cell_type": "code",
      "source": [
        "print(\"\\nIntervalos de Custos (Vetor de Custos):\")\n",
        "for variavel in modelo.getVars():\n",
        "  print(f\"Variável {variavel.VarName}:\")\n",
        "  print(f\"  lower bound do custo (SAObjLow): {variavel.SAObjLow}\")\n",
        "  print(f\"  upper bound do custo (SAObjUp): {variavel.SAObjUp}\")\n",
        "\n",
        "print(\"\\nIntervalos de Recursos (Vetor de Recursos):\")\n",
        "for restricao in modelo.getConstrs():\n",
        "  print(f\"Restrição {restricao.ConstrName}:\")\n",
        "  print(f\"  lower bound do recurso (SARHSLow): {restricao.SARHSLow}\")\n",
        "  print(f\"  upper bound do recurso (SARHSUp): {restricao.SARHSUp}\")"
      ],
      "metadata": {
        "id": "geN_NFnkrZWN",
        "colab": {
          "base_uri": "https://localhost:8080/"
        },
        "outputId": "0a82414e-2fa0-4de7-ce6b-36f5bd2f8202",
        "collapsed": true
      },
      "execution_count": 9,
      "outputs": [
        {
          "output_type": "stream",
          "name": "stdout",
          "text": [
            "\n",
            "Intervalos de Custos (Vetor de Custos):\n",
            "Variável Big Mac:\n",
            "  lower bound do custo (SAObjLow): 3.8954128440366977\n",
            "  upper bound do custo (SAObjUp): inf\n",
            "Variável Big Tasty:\n",
            "  lower bound do custo (SAObjLow): 6.279816513761467\n",
            "  upper bound do custo (SAObjUp): inf\n",
            "Variável Quarterão com Queijo:\n",
            "  lower bound do custo (SAObjLow): 5.077064220183487\n",
            "  upper bound do custo (SAObjUp): inf\n",
            "Variável McNífico Bacon:\n",
            "  lower bound do custo (SAObjLow): 5.4779816513761475\n",
            "  upper bound do custo (SAObjUp): inf\n",
            "Variável Cheddar McMelt:\n",
            "  lower bound do custo (SAObjLow): 4.676146788990826\n",
            "  upper bound do custo (SAObjUp): inf\n",
            "Variável McFish:\n",
            "  lower bound do custo (SAObjLow): 3.144036697247707\n",
            "  upper bound do custo (SAObjUp): inf\n",
            "Variável McChicken:\n",
            "  lower bound do custo (SAObjLow): 3.441284403669725\n",
            "  upper bound do custo (SAObjUp): inf\n",
            "Variável Crispy Chicken:\n",
            "  lower bound do custo (SAObjLow): 3.7724770642201837\n",
            "  upper bound do custo (SAObjUp): inf\n",
            "Variável Chicken Grill:\n",
            "  lower bound do custo (SAObjLow): 4.044954128440367\n",
            "  upper bound do custo (SAObjUp): inf\n",
            "Variável McDuplo:\n",
            "  lower bound do custo (SAObjLow): 2.802995391705069\n",
            "  upper bound do custo (SAObjUp): 4.239198064293121\n",
            "Variável Cheeseburger:\n",
            "  lower bound do custo (SAObjLow): 2.4467889908256883\n",
            "  upper bound do custo (SAObjUp): inf\n",
            "Variável Hamburger:\n",
            "  lower bound do custo (SAObjLow): 1.9926605504587156\n",
            "  upper bound do custo (SAObjUp): inf\n",
            "Variável Queijo Quente:\n",
            "  lower bound do custo (SAObjLow): 1.765137614678899\n",
            "  upper bound do custo (SAObjUp): inf\n",
            "Variável McBacon Junior:\n",
            "  lower bound do custo (SAObjLow): 2.8155963302752296\n",
            "  upper bound do custo (SAObjUp): inf\n",
            "Variável Mini McSalad Shaker:\n",
            "  lower bound do custo (SAObjLow): 0.2275229357798163\n",
            "  upper bound do custo (SAObjUp): inf\n",
            "Variável Premium Salad:\n",
            "  lower bound do custo (SAObjLow): 0.7146788990825677\n",
            "  upper bound do custo (SAObjUp): inf\n",
            "Variável Premium Salad Grill:\n",
            "  lower bound do custo (SAObjLow): 4.64862385321101\n",
            "  upper bound do custo (SAObjUp): inf\n",
            "Variável Premium Salad Crispy:\n",
            "  lower bound do custo (SAObjLow): 4.461467889908258\n",
            "  upper bound do custo (SAObjUp): inf\n",
            "Variável Molho Salada Caseiro:\n",
            "  lower bound do custo (SAObjLow): 0.6623853211009174\n",
            "  upper bound do custo (SAObjUp): inf\n",
            "Variável Molho Salada Tomate Seco:\n",
            "  lower bound do custo (SAObjLow): 0.17064220183486234\n",
            "  upper bound do custo (SAObjUp): inf\n",
            "Variável Molho Salada Ranch:\n",
            "  lower bound do custo (SAObjLow): 0.7000000000000002\n",
            "  upper bound do custo (SAObjUp): inf\n",
            "Variável McFritas grande:\n",
            "  lower bound do custo (SAObjLow): 2.2018348623853212\n",
            "  upper bound do custo (SAObjUp): inf\n",
            "Variável McFritas média:\n",
            "  lower bound do custo (SAObjLow): 1.61651376146789\n",
            "  upper bound do custo (SAObjUp): inf\n",
            "Variável McFritas pequena:\n",
            "  lower bound do custo (SAObjLow): 1.1009174311926606\n",
            "  upper bound do custo (SAObjUp): inf\n",
            "Variável Chicken McNuggets (12 unid.):\n",
            "  lower bound do custo (SAObjLow): 6.488073394495413\n",
            "  upper bound do custo (SAObjUp): inf\n",
            "Variável Chicken McNuggets (4 unid.):\n",
            "  lower bound do custo (SAObjLow): 2.081651376146789\n",
            "  upper bound do custo (SAObjUp): inf\n",
            "Variável Chicken McNuggets (6 unid.):\n",
            "  lower bound do custo (SAObjLow): 3.1825688073394502\n",
            "  upper bound do custo (SAObjUp): inf\n",
            "Variável Molho Agridoce:\n",
            "  lower bound do custo (SAObjLow): 0.2908256880733945\n",
            "  upper bound do custo (SAObjUp): inf\n",
            "Variável Molho Barbecue:\n",
            "  lower bound do custo (SAObjLow): 0.2908256880733945\n",
            "  upper bound do custo (SAObjUp): inf\n",
            "Variável Molho Hot Mustard:\n",
            "  lower bound do custo (SAObjLow): 0.2055045871559632\n",
            "  upper bound do custo (SAObjUp): inf\n",
            "Variável Molho Caipira:\n",
            "  lower bound do custo (SAObjLow): 0.24036697247706418\n",
            "  upper bound do custo (SAObjUp): inf\n",
            "Variável McFruit Uva (300 ml):\n",
            "  lower bound do custo (SAObjLow): 1.1091743119266055\n",
            "  upper bound do custo (SAObjUp): inf\n",
            "Variável McFruit Uva (500 ml):\n",
            "  lower bound do custo (SAObjLow): 1.8770642201834864\n",
            "  upper bound do custo (SAObjUp): inf\n",
            "Variável McFruit Maracujá (300 ml):\n",
            "  lower bound do custo (SAObjLow): 1.1091743119266055\n",
            "  upper bound do custo (SAObjUp): inf\n",
            "Variável McFruit Maracujá (500 ml):\n",
            "  lower bound do custo (SAObjLow): 1.8770642201834864\n",
            "  upper bound do custo (SAObjUp): inf\n",
            "Variável McFruit Limão (300 ml):\n",
            "  lower bound do custo (SAObjLow): 1.1091743119266055\n",
            "  upper bound do custo (SAObjUp): inf\n",
            "Variável McFruit Limão (500 ml):\n",
            "  lower bound do custo (SAObjLow): 1.7917431192660551\n",
            "  upper bound do custo (SAObjUp): inf\n",
            "Variável McFruit Laranja (300 ml):\n",
            "  lower bound do custo (SAObjLow): 1.1091743119266055\n",
            "  upper bound do custo (SAObjUp): inf\n",
            "Variável McFruit Laranja (500 ml):\n",
            "  lower bound do custo (SAObjLow): 1.8770642201834864\n",
            "  upper bound do custo (SAObjUp): inf\n",
            "Variável Água de Coco:\n",
            "  lower bound do custo (SAObjLow): 0.42660550458715596\n",
            "  upper bound do custo (SAObjUp): inf\n",
            "Variável Água de Coco do Ronald:\n",
            "  lower bound do custo (SAObjLow): 0.25596330275229384\n",
            "  upper bound do custo (SAObjUp): inf\n",
            "Variável Água Mineral:\n",
            "  lower bound do custo (SAObjLow): 0.0\n",
            "  upper bound do custo (SAObjUp): inf\n",
            "Variável Água Mineral com gás:\n",
            "  lower bound do custo (SAObjLow): 0.0\n",
            "  upper bound do custo (SAObjUp): inf\n",
            "Variável Coca-Cola (300 ml):\n",
            "  lower bound do custo (SAObjLow): 0.8532110091743119\n",
            "  upper bound do custo (SAObjUp): inf\n",
            "Variável Coca-Cola (500 ml):\n",
            "  lower bound do custo (SAObjLow): 1.4504587155963304\n",
            "  upper bound do custo (SAObjUp): inf\n",
            "Variável Coca-Cola (700 ml):\n",
            "  lower bound do custo (SAObjLow): 1.9623853211009175\n",
            "  upper bound do custo (SAObjUp): inf\n",
            "Variável Fanta (300 ml):\n",
            "  lower bound do custo (SAObjLow): 1.1091743119266055\n",
            "  upper bound do custo (SAObjUp): inf\n",
            "Variável Fanta (500 ml):\n",
            "  lower bound do custo (SAObjLow): 1.8770642201834864\n",
            "  upper bound do custo (SAObjUp): inf\n",
            "Variável Fanta (700 ml):\n",
            "  lower bound do custo (SAObjLow): 2.644954128440367\n",
            "  upper bound do custo (SAObjUp): inf\n",
            "Variável Coca-Cola Light (300 ml):\n",
            "  lower bound do custo (SAObjLow): 0.0\n",
            "  upper bound do custo (SAObjUp): inf\n",
            "Variável Coca-Cola Light (500 ml):\n",
            "  lower bound do custo (SAObjLow): 0.0\n",
            "  upper bound do custo (SAObjUp): inf\n",
            "Variável Coca-Cola Light (700 ml):\n",
            "  lower bound do custo (SAObjLow): 0.0\n",
            "  upper bound do custo (SAObjUp): inf\n",
            "Variável Guaraná (300 ml):\n",
            "  lower bound do custo (SAObjLow): 0.8532110091743119\n",
            "  upper bound do custo (SAObjUp): inf\n",
            "Variável Guaraná (500 ml):\n",
            "  lower bound do custo (SAObjLow): 1.4504587155963304\n",
            "  upper bound do custo (SAObjUp): inf\n",
            "Variável Guaraná (700 ml):\n",
            "  lower bound do custo (SAObjLow): 1.9623853211009175\n",
            "  upper bound do custo (SAObjUp): inf\n",
            "Variável Guaraná Zero Açúcar (300 ml):\n",
            "  lower bound do custo (SAObjLow): 0.0\n",
            "  upper bound do custo (SAObjUp): inf\n",
            "Variável Guaraná Zero Açúcar (500 ml):\n",
            "  lower bound do custo (SAObjLow): 0.0\n",
            "  upper bound do custo (SAObjUp): inf\n",
            "Variável Guaraná Zero Açúcar (700 ml):\n",
            "  lower bound do custo (SAObjLow): 0.0\n",
            "  upper bound do custo (SAObjUp): inf\n",
            "Variável Casquinha Baunilha:\n",
            "  lower bound do custo (SAObjLow): 0.7619047619047619\n",
            "  upper bound do custo (SAObjUp): 1.5\n",
            "Variável Casquinha Chocolate:\n",
            "  lower bound do custo (SAObjLow): 1.5\n",
            "  upper bound do custo (SAObjUp): inf\n",
            "Variável Casquinha Mista:\n",
            "  lower bound do custo (SAObjLow): 1.5\n",
            "  upper bound do custo (SAObjUp): inf\n",
            "Variável ChocoMac Branco:\n",
            "  lower bound do custo (SAObjLow): 1.4467889908256881\n",
            "  upper bound do custo (SAObjUp): inf\n",
            "Variável ChocoMac Preto:\n",
            "  lower bound do custo (SAObjLow): 1.3614678899082568\n",
            "  upper bound do custo (SAObjUp): inf\n",
            "Variável McColosso Chocolate:\n",
            "  lower bound do custo (SAObjLow): 1.996330275229358\n",
            "  upper bound do custo (SAObjUp): inf\n",
            "Variável McColosso Doce de Leite:\n",
            "  lower bound do custo (SAObjLow): 2.1192660550458715\n",
            "  upper bound do custo (SAObjUp): inf\n",
            "Variável Sundae Chocolate:\n",
            "  lower bound do custo (SAObjLow): 1.9137614678899086\n",
            "  upper bound do custo (SAObjUp): inf\n",
            "Variável Sundae Doce de Leite:\n",
            "  lower bound do custo (SAObjLow): 2.122018348623853\n",
            "  upper bound do custo (SAObjUp): inf\n",
            "Variável Sundae Morango:\n",
            "  lower bound do custo (SAObjLow): 1.9990825688073395\n",
            "  upper bound do custo (SAObjUp): inf\n",
            "Variável Top Sundae Chocolate:\n",
            "  lower bound do custo (SAObjLow): 2.7568807339449544\n",
            "  upper bound do custo (SAObjUp): inf\n",
            "Variável Top Sundae Doce de Leite:\n",
            "  lower bound do custo (SAObjLow): 3.088073394495413\n",
            "  upper bound do custo (SAObjUp): inf\n",
            "Variável Top Sundae Morango:\n",
            "  lower bound do custo (SAObjLow): 2.8422018348623856\n",
            "  upper bound do custo (SAObjUp): inf\n",
            "Variável McFlurry Paçoca e Chocolate:\n",
            "  lower bound do custo (SAObjLow): 2.4155963302752292\n",
            "  upper bound do custo (SAObjUp): inf\n",
            "Variável McFlurry M&M e Choc. Branco:\n",
            "  lower bound do custo (SAObjLow): 2.9651376146788992\n",
            "  upper bound do custo (SAObjUp): inf\n",
            "Variável Super McShake Choc. (300 ml):\n",
            "  lower bound do custo (SAObjLow): 2.6972477064220186\n",
            "  upper bound do custo (SAObjUp): inf\n",
            "Variável Super McShake Choc. (500 ml):\n",
            "  lower bound do custo (SAObjLow): 4.2605504587155965\n",
            "  upper bound do custo (SAObjUp): inf\n",
            "Variável Super McShake Coco (300 ml):\n",
            "  lower bound do custo (SAObjLow): 2.2201834862385317\n",
            "  upper bound do custo (SAObjUp): inf\n",
            "Variável Super McShake Coco (500 ml):\n",
            "  lower bound do custo (SAObjLow): 3.73302752293578\n",
            "  upper bound do custo (SAObjUp): inf\n",
            "Variável Super McShake Flocos (300 ml):\n",
            "  lower bound do custo (SAObjLow): 2.526605504587156\n",
            "  upper bound do custo (SAObjUp): inf\n",
            "Variável Super McShake Flocos (500 ml):\n",
            "  lower bound do custo (SAObjLow): 4.089908256880734\n",
            "  upper bound do custo (SAObjUp): inf\n",
            "Variável Torta de Banana:\n",
            "  lower bound do custo (SAObjLow): 1.1128440366972479\n",
            "  upper bound do custo (SAObjUp): inf\n",
            "Variável Torta de Maçã:\n",
            "  lower bound do custo (SAObjLow): 1.0779816513761469\n",
            "  upper bound do custo (SAObjUp): inf\n",
            "Variável Iogurte com Frutas e Cereais:\n",
            "  lower bound do custo (SAObjLow): 1.3110091743119265\n",
            "  upper bound do custo (SAObjUp): inf\n",
            "Variável Maçã:\n",
            "  lower bound do custo (SAObjLow): 0.5064935064935066\n",
            "  upper bound do custo (SAObjUp): 2.303457446808511\n",
            "Variável Achocolatado do Ronald:\n",
            "  lower bound do custo (SAObjLow): 1.3073394495412844\n",
            "  upper bound do custo (SAObjUp): inf\n",
            "\n",
            "Intervalos de Recursos (Vetor de Recursos):\n",
            "Restrição O VDR de cada nutriente é 100:\n",
            "  lower bound do recurso (SARHSLow): -inf\n",
            "  upper bound do recurso (SARHSUp): 136.69724770642202\n",
            "Restrição O VDR de cada nutriente é 100:\n",
            "  lower bound do recurso (SARHSLow): 82.1705426356589\n",
            "  upper bound do recurso (SARHSUp): 296.42857142857144\n",
            "Restrição O VDR de cada nutriente é 100:\n",
            "  lower bound do recurso (SARHSLow): -inf\n",
            "  upper bound do recurso (SARHSUp): 163.302752293578\n",
            "Restrição O VDR de cada nutriente é 100:\n",
            "  lower bound do recurso (SARHSLow): -inf\n",
            "  upper bound do recurso (SARHSUp): 214.67889908256882\n",
            "Restrição O VDR de cada nutriente é 100:\n",
            "  lower bound do recurso (SARHSLow): -inf\n",
            "  upper bound do recurso (SARHSUp): 286.69724770642205\n",
            "Restrição O VDR de cada nutriente é 100:\n",
            "  lower bound do recurso (SARHSLow): 60.18465089440275\n",
            "  upper bound do recurso (SARHSUp): 153.1914893617021\n",
            "Restrição O VDR de cada nutriente é 100:\n",
            "  lower bound do recurso (SARHSLow): 54.54545454545455\n",
            "  upper bound do recurso (SARHSUp): 146.2962962962963\n",
            "Restrição O VDR de cada nutriente é 100:\n",
            "  lower bound do recurso (SARHSLow): -inf\n",
            "  upper bound do recurso (SARHSUp): 190.8256880733945\n",
            "Restrição O VDR de cada nutriente é 100:\n",
            "  lower bound do recurso (SARHSLow): -inf\n",
            "  upper bound do recurso (SARHSUp): 121.10091743119267\n",
            "Restrição O VDR de cada nutriente é 100:\n",
            "  lower bound do recurso (SARHSLow): -inf\n",
            "  upper bound do recurso (SARHSUp): 209.63302752293578\n"
          ]
        }
      ]
    },
    {
      "cell_type": "markdown",
      "source": [
        "**1.** Variáveis de Decisão (alimentos): Os intervalos de sensibilidade para o custo (SAObjLow e SAObjUp) mostram os limites dentro dos quais o coeficiente objetivo de cada variável pode variar sem alterar a base ótima da solução. Isso significa que:\n",
        "\n",
        "Para a maioria dos alimentos, o limite inferior (SAObjLow) indica o menor valor de custo que ainda manterá a solução ótima inalterada.\n",
        "Muitos alimentos têm o limite superior (SAObjUp) como infinito, o que significa que seus custos podem aumentar indefinidamente sem impactar a base ótima atual.\n",
        "Por exemplo, o \"Big Mac\" tem um limite inferior de 3.89, o que implica que, se o custo cair abaixo desse valor, a solução ótima pode mudar.\n",
        "\n",
        "**2.** Restrições (Recursos): Os intervalos de sensibilidade para os recursos (SARHSLow e SARHSUp) indicam as variações permitidas nos limites das restrições (como VDR de nutrientes) sem alterar a viabilidade da solução:\n",
        "\n",
        "SARHSLow: Valor mínimo que a restrição pode assumir sem afetar a solução ótima.\n",
        "\n",
        "SARHSUp: Valor máximo permitido antes que a solução deixe de ser ótima.\n",
        "Por exemplo, na restrição com limite superior de 136.69, se o valor aumentar além disso, a solução ótima não será mais válida.\n",
        "\n",
        "Portanto, A análise mostra que há flexibilidade para alterações nos custos de alguns alimentos e nos limites de restrições. Contudo, certos alimentos (como \"McDuplo\" e \"Casquinha Baunilha\") possuem intervalos mais estreitos, indicando maior sensibilidade a mudanças nos custos. Restrições com limites inferiores positivos também destacam nutrientes que podem afetar a viabilidade da solução com pequenas variações.\n",
        "\n",
        "\n",
        "\n",
        "\n",
        "\n",
        "\n"
      ],
      "metadata": {
        "id": "QFIWNMkpIoZ5"
      }
    },
    {
      "cell_type": "markdown",
      "source": [
        "# 3)"
      ],
      "metadata": {
        "id": "C5dpQCNxJd5z"
      }
    },
    {
      "cell_type": "markdown",
      "source": [
        "## Declaração das variáveis"
      ],
      "metadata": {
        "id": "hNzJCYWDLaoR"
      }
    },
    {
      "cell_type": "code",
      "source": [
        "alimentos_veg = []\n",
        "alimentos_veg_indices = []\n",
        "custos_veg = []\n",
        "\n",
        "# Percorrendo a matriz e pegando apenas a informação dos custos e salvando no vetor\n",
        "for i in range(len(valores_custos)):\n",
        "    if ( valores_custos[i][3] ):\n",
        "      alimentos_veg_indices.append(i)\n",
        "      custos_veg.append(valores_custos[i][0])\n",
        "\n",
        "# Criando uma variável para representar a quantidade de cada alimento vegetariano:\n",
        "for i in range(len(df_nutrientes.index)):\n",
        "  if ( i in alimentos_veg_indices ):\n",
        "    alimentos_veg.append(modelo.addVar(name=df_nutrientes.index[i], vtype=GRB.CONTINUOUS, lb=0))\n"
      ],
      "metadata": {
        "id": "Xwl3Hyc_JuOk"
      },
      "execution_count": 4,
      "outputs": []
    },
    {
      "cell_type": "markdown",
      "source": [
        "## Função Objetivo"
      ],
      "metadata": {
        "id": "gDUG3YknLcgi"
      }
    },
    {
      "cell_type": "code",
      "source": [
        "funcao_objetivo = quicksum(custos_veg[i] * alimentos_veg[i] for i in range(len(alimentos_veg)))\n",
        "\n",
        "modelo.setObjective(funcao_objetivo, GRB.MINIMIZE)"
      ],
      "metadata": {
        "id": "cWIOmaNoLf-p"
      },
      "execution_count": 5,
      "outputs": []
    },
    {
      "cell_type": "markdown",
      "source": [
        "## Restrições"
      ],
      "metadata": {
        "id": "URKHv3KVMJTR"
      }
    },
    {
      "cell_type": "code",
      "source": [
        "for nutriente_indice in range(len(nutrientes_valores)):\n",
        "  total_nutriente = 0\n",
        "  for alimento in range(len(nutrientes_valores[nutriente_indice])):\n",
        "    if ( alimento in alimentos_veg_indices ):\n",
        "      indice_correspondente = alimentos_veg_indices.index(alimento)\n",
        "      total_nutriente += nutrientes_valores[nutriente_indice][alimento] * alimentos_veg[indice_correspondente]\n",
        "  modelo.addConstr(total_nutriente >= 100, \"O VDR de cada nutriente é 100\")"
      ],
      "metadata": {
        "id": "SGfJvDxOMLhe"
      },
      "execution_count": 6,
      "outputs": []
    },
    {
      "cell_type": "markdown",
      "source": [
        "## Resolvendo o problema dos vegetarianos"
      ],
      "metadata": {
        "id": "k_GlYyrGMfm0"
      }
    },
    {
      "cell_type": "code",
      "source": [
        "modelo.optimize()"
      ],
      "metadata": {
        "colab": {
          "base_uri": "https://localhost:8080/"
        },
        "id": "VVS2EBqkMfJY",
        "outputId": "7ba36e63-7540-4e10-b6a0-daa9ec98bfb6"
      },
      "execution_count": 7,
      "outputs": [
        {
          "output_type": "stream",
          "name": "stdout",
          "text": [
            "Gurobi Optimizer version 12.0.0 build v12.0.0rc1 (linux64 - \"Ubuntu 22.04.3 LTS\")\n",
            "\n",
            "CPU model: Intel(R) Xeon(R) CPU @ 2.20GHz, instruction set [SSE2|AVX|AVX2]\n",
            "Thread count: 1 physical cores, 2 logical processors, using up to 2 threads\n",
            "\n",
            "Optimize a model with 10 rows, 151 columns and 464 nonzeros\n",
            "Model fingerprint: 0x921708cf\n",
            "Coefficient statistics:\n",
            "  Matrix range     [1e+00, 1e+02]\n",
            "  Objective range  [1e+00, 1e+01]\n",
            "  Bounds range     [0e+00, 0e+00]\n",
            "  RHS range        [1e+02, 1e+02]\n",
            "Presolve removed 0 rows and 99 columns\n",
            "Presolve time: 0.02s\n",
            "Presolved: 10 rows, 52 columns, 415 nonzeros\n",
            "\n",
            "Iteration    Objective       Primal Inf.    Dual Inf.      Time\n",
            "       0    0.0000000e+00   8.750000e+01   0.000000e+00      0s\n",
            "       4    3.9634146e+01   0.000000e+00   0.000000e+00      0s\n",
            "\n",
            "Solved in 4 iterations and 0.03 seconds (0.00 work units)\n",
            "Optimal objective  3.963414634e+01\n"
          ]
        }
      ]
    },
    {
      "cell_type": "markdown",
      "source": [
        "## Imprimindo a Solução"
      ],
      "metadata": {
        "id": "pzBqzzx0MvdK"
      }
    },
    {
      "cell_type": "code",
      "source": [
        "if(modelo.status == GRB.OPTIMAL):\n",
        "  print(f\"Valor Ótimo: {modelo.objVal}\")"
      ],
      "metadata": {
        "colab": {
          "base_uri": "https://localhost:8080/"
        },
        "id": "qekq7SReMw_k",
        "outputId": "08d673d6-2cc4-4b53-f743-eb504dec0250"
      },
      "execution_count": 8,
      "outputs": [
        {
          "output_type": "stream",
          "name": "stdout",
          "text": [
            "Valor Ótimo: 39.63414634146341\n"
          ]
        }
      ]
    },
    {
      "cell_type": "markdown",
      "source": [
        "## Resposta: R$ 39,63"
      ],
      "metadata": {
        "id": "bcVUMEcmPrjQ"
      }
    },
    {
      "cell_type": "markdown",
      "source": [
        "# 4)"
      ],
      "metadata": {
        "id": "g7vjdVj5ONK-"
      }
    },
    {
      "cell_type": "markdown",
      "source": [
        "## Para fazer essa questão, basta adicionar na declaração das variáveis de decisão um limite superior igual a 1. Dessa forma, limita-se a quantidade de alimento para 1. Depois é só rodar novamente cada parte de código. E imprimir a solução ótima"
      ],
      "metadata": {
        "id": "tWtWpENVPNS0"
      }
    },
    {
      "cell_type": "code",
      "source": [
        "if(modelo.status == GRB.OPTIMAL):\n",
        "  print(f\"Valor Ótimo: {modelo.objVal}\")"
      ],
      "metadata": {
        "colab": {
          "base_uri": "https://localhost:8080/"
        },
        "id": "NyluguUYPhSf",
        "outputId": "47c12ac6-4422-447d-c11b-7a089044f509"
      },
      "execution_count": null,
      "outputs": [
        {
          "output_type": "stream",
          "name": "stdout",
          "text": [
            "Valor Ótimo: 31.562784549860485\n"
          ]
        }
      ]
    },
    {
      "cell_type": "markdown",
      "source": [
        "## Resposta: R$ 31,56"
      ],
      "metadata": {
        "id": "68pHcM1uQggs"
      }
    }
  ]
}